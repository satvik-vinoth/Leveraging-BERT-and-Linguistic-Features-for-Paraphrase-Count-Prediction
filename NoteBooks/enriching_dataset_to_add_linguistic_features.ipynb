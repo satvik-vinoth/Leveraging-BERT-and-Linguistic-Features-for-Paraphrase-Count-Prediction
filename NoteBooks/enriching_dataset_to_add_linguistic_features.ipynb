{
  "nbformat": 4,
  "nbformat_minor": 0,
  "metadata": {
    "colab": {
      "provenance": []
    },
    "kernelspec": {
      "name": "python3",
      "display_name": "Python 3"
    },
    "language_info": {
      "name": "python"
    }
  },
  "cells": [
    {
      "cell_type": "code",
      "source": [
        "!pip install textstat"
      ],
      "metadata": {
        "colab": {
          "base_uri": "https://localhost:8080/"
        },
        "id": "Q69ajw83FmDH",
        "outputId": "77907458-5857-452a-fa3e-690fc321526d"
      },
      "execution_count": null,
      "outputs": [
        {
          "output_type": "stream",
          "name": "stdout",
          "text": [
            "Collecting textstat\n",
            "  Downloading textstat-0.7.4-py3-none-any.whl.metadata (14 kB)\n",
            "Collecting pyphen (from textstat)\n",
            "  Downloading pyphen-0.17.0-py3-none-any.whl.metadata (3.2 kB)\n",
            "Requirement already satisfied: setuptools in /usr/local/lib/python3.10/dist-packages (from textstat) (75.1.0)\n",
            "Downloading textstat-0.7.4-py3-none-any.whl (105 kB)\n",
            "\u001b[2K   \u001b[90m━━━━━━━━━━━━━━━━━━━━━━━━━━━━━━━━━━━━━━━━\u001b[0m \u001b[32m105.1/105.1 kB\u001b[0m \u001b[31m2.6 MB/s\u001b[0m eta \u001b[36m0:00:00\u001b[0m\n",
            "\u001b[?25hDownloading pyphen-0.17.0-py3-none-any.whl (2.1 MB)\n",
            "\u001b[2K   \u001b[90m━━━━━━━━━━━━━━━━━━━━━━━━━━━━━━━━━━━━━━━━\u001b[0m \u001b[32m2.1/2.1 MB\u001b[0m \u001b[31m13.1 MB/s\u001b[0m eta \u001b[36m0:00:00\u001b[0m\n",
            "\u001b[?25hInstalling collected packages: pyphen, textstat\n",
            "Successfully installed pyphen-0.17.0 textstat-0.7.4\n"
          ]
        }
      ]
    },
    {
      "cell_type": "code",
      "execution_count": null,
      "metadata": {
        "colab": {
          "base_uri": "https://localhost:8080/"
        },
        "id": "eCClyMRHFPml",
        "outputId": "ea242c58-650b-4ac4-fbcf-cca1733bfe32"
      },
      "outputs": [
        {
          "output_type": "stream",
          "name": "stdout",
          "text": [
            "Features added successfully and saved to Enriched_Dataset.xlsx\n"
          ]
        }
      ],
      "source": [
        "import pandas as pd\n",
        "import spacy\n",
        "from textblob import TextBlob\n",
        "\n",
        "# Load SpaCy model for POS tagging and named entity recognition\n",
        "nlp = spacy.load('en_core_web_sm')\n",
        "\n",
        "# Function to extract additional features\n",
        "def extract_features(sentence):\n",
        "    doc = nlp(sentence)\n",
        "\n",
        "    # POS counts\n",
        "    pos_counts = {pos: 0 for pos in ['NOUN', 'VERB', 'ADJ', 'ADV']}\n",
        "    for token in doc:\n",
        "        if token.pos_ in pos_counts:\n",
        "            pos_counts[token.pos_] += 1\n",
        "\n",
        "    # Dependency tree depth (as an example of syntactic feature)\n",
        "    dependency_depth = max([token.dep_ for token in doc], default=0)\n",
        "\n",
        "    # Example features: Sentence length, POS counts, sentiment\n",
        "    features = {\n",
        "        'num_nouns': pos_counts['NOUN'],\n",
        "        'num_verbs': pos_counts['VERB'],\n",
        "        'num_adjectives': pos_counts['ADJ'],\n",
        "        'num_adverbs': pos_counts['ADV'],\n",
        "    }\n",
        "    return features\n",
        "\n",
        "# Load your dataset\n",
        "file_path = 'paraphrases_output.xlsx'\n",
        "df = pd.read_excel(file_path)\n",
        "\n",
        "# Apply the feature extraction to each sentence\n",
        "df_features = df['Sentence'].apply(extract_features).apply(pd.Series)\n",
        "\n",
        "# Combine the new features with the original dataset\n",
        "df_combined = pd.concat([df, df_features], axis=1)\n",
        "\n",
        "# Save the enriched dataset to a new Excel file\n",
        "df_combined.to_excel('Enriched_Dataset.xlsx', index=False)\n",
        "\n",
        "print(\"Features added successfully and saved to Enriched_Dataset.xlsx\")\n"
      ]
    },
    {
      "cell_type": "code",
      "source": [
        "\n",
        "import pandas as pd\n",
        "import textstat\n",
        "import spacy\n",
        "from nltk import tokenize\n",
        "\n",
        "# Load your dataset\n",
        "file_path = 'Enriched_Dataset.xlsx'  # Update the path if necessary\n",
        "df = pd.read_excel(file_path)\n",
        "\n",
        "# Load Spacy's English model\n",
        "nlp = spacy.load('en_core_web_sm')\n",
        "\n",
        "# Define a function to calculate readability scores\n",
        "def calculate_readability(sentence):\n",
        "    flesch_kincaid_grade = textstat.flesch_kincaid_grade(sentence)\n",
        "    gunning_fog = textstat.gunning_fog(sentence)\n",
        "    smog_index = textstat.smog_index(sentence)\n",
        "    return flesch_kincaid_grade, gunning_fog\n",
        "\n",
        "\n",
        "\n",
        "# Add new columns to the DataFrame\n",
        "df['Flesch_Kincaid_Grade'], df['Gunning_Fog'] = zip(*df['Sentence'].apply(calculate_readability))\n",
        "\n",
        "\n",
        "# Save the enriched dataset to a new Excel file\n",
        "df.to_excel('Enriched_Dataset_with_Complexity.xlsx', index=False)\n",
        "\n",
        "print(\"Features added and dataset saved as 'Enriched_Dataset_with_Complexity.xlsx'.\")\n"
      ],
      "metadata": {
        "colab": {
          "base_uri": "https://localhost:8080/"
        },
        "id": "4CeZJlXqGH87",
        "outputId": "38b99a7f-d7ca-4468-95c5-fb4e5dcad213"
      },
      "execution_count": null,
      "outputs": [
        {
          "output_type": "stream",
          "name": "stdout",
          "text": [
            "Features added and dataset saved as 'Enriched_Dataset_with_Complexity.xlsx'.\n"
          ]
        }
      ]
    },
    {
      "cell_type": "code",
      "source": [
        "import pandas as pd\n",
        "import spacy\n",
        "\n",
        "# Load Spacy model\n",
        "nlp = spacy.load('en_core_web_sm')\n",
        "\n",
        "# Load the enriched dataset\n",
        "file_path = 'Enriched_Dataset_with_Complexity.xlsx'\n",
        "df = pd.read_excel(file_path)\n",
        "\n",
        "# Function to calculate dependency tree features\n",
        "def calculate_dependency_features(sentence):\n",
        "    doc = nlp(sentence)\n",
        "\n",
        "\n",
        "\n",
        "    # Count the number of dependent tokens\n",
        "    num_dependents = sum([1 for token in doc if token.dep_ != 'ROOT'])\n",
        "\n",
        "    # Count different dependency labels\n",
        "    dep_labels = [token.dep_ for token in doc]\n",
        "    dep_label_counts = {label: dep_labels.count(label) for label in set(dep_labels)}\n",
        "\n",
        "    return num_dependents, dep_label_counts\n",
        "\n",
        "# Apply the function to the dataset and extract specific features\n",
        "df['Num_Dependents'], df['Dep_Label_Counts'] = zip(*df['Sentence'].apply(calculate_dependency_features))\n",
        "\n",
        "# Save the enriched dataset to a new Excel file\n",
        "df.to_excel('Enriched_Dataset_with_Dependency_Structure.xlsx', index=False)\n",
        "\n",
        "print(\"Dependency structure features added successfully!\")\n"
      ],
      "metadata": {
        "colab": {
          "base_uri": "https://localhost:8080/"
        },
        "id": "DAiDUh_NGQwr",
        "outputId": "1ea83889-28d6-4505-dc9f-c1197afd98f9"
      },
      "execution_count": null,
      "outputs": [
        {
          "output_type": "stream",
          "name": "stdout",
          "text": [
            "Dependency structure features added successfully!\n"
          ]
        }
      ]
    },
    {
      "cell_type": "code",
      "source": [
        "import pandas as pd\n",
        "import ast\n",
        "\n",
        "# Load the enriched dataset\n",
        "file_path = 'Enriched_Dataset_with_Dependency_Structure.xlsx'\n",
        "df = pd.read_excel(file_path)\n",
        "\n",
        "# Convert the string representation of dictionaries into actual dictionaries\n",
        "df['Dep_Label_Counts'] = df['Dep_Label_Counts'].apply(ast.literal_eval)\n",
        "\n",
        "# Create separate columns for each dependency label\n",
        "dep_label_df = df['Dep_Label_Counts'].apply(pd.Series).fillna(0)\n",
        "\n",
        "# Rename the columns to avoid any conflicts\n",
        "dep_label_df.columns = [f'Dep_{col}' for col in dep_label_df.columns]\n",
        "\n",
        "# Drop the original 'Dep_Label_Counts' column and concatenate the new columns\n",
        "df = df.drop(columns=['Dep_Label_Counts'])\n",
        "df = pd.concat([df, dep_label_df], axis=1)\n",
        "\n",
        "# Save the enriched dataset to a new Excel file\n",
        "df.to_excel('Enriched_Dataset.xlsx', index=False)\n",
        "\n",
        "print(\"Dependency labels split into separate columns successfully!\")\n"
      ],
      "metadata": {
        "colab": {
          "base_uri": "https://localhost:8080/"
        },
        "id": "zkpglL-JGYF_",
        "outputId": "4bce1674-4b72-4a43-d0cb-f7fe4b6717c1"
      },
      "execution_count": null,
      "outputs": [
        {
          "output_type": "stream",
          "name": "stdout",
          "text": [
            "Dependency labels split into separate columns successfully!\n"
          ]
        }
      ]
    },
    {
      "cell_type": "code",
      "source": [
        "\n",
        "import spacy\n",
        "from spacy import displacy\n",
        "\n",
        "# Load the spaCy model for English\n",
        "nlp = spacy.load('en_core_web_sm')\n",
        "\n",
        "# Define the sentence\n",
        "sentence = \"Operating systems provide a graphical user interface for ease of use.\"\n",
        "\n",
        "# Process the sentence using spaCy\n",
        "doc = nlp(sentence)\n",
        "\n",
        "# Render the dependency tree\n",
        "displacy.render(doc, style='dep', jupyter=True, options={'distance': 90})\n"
      ],
      "metadata": {
        "colab": {
          "base_uri": "https://localhost:8080/",
          "height": 293
        },
        "id": "nKn897uUnPq_",
        "outputId": "812e03bc-e39c-4f3d-a511-5266b4977b6f"
      },
      "execution_count": null,
      "outputs": [
        {
          "output_type": "display_data",
          "data": {
            "text/plain": [
              "<IPython.core.display.HTML object>"
            ],
            "text/html": [
              "<span class=\"tex2jax_ignore\"><svg xmlns=\"http://www.w3.org/2000/svg\" xmlns:xlink=\"http://www.w3.org/1999/xlink\" xml:lang=\"en\" id=\"653ccfed37ea4af6a283c59d25551b38-0\" class=\"displacy\" width=\"1040\" height=\"272.0\" direction=\"ltr\" style=\"max-width: none; height: 272.0px; color: #000000; background: #ffffff; font-family: Arial; direction: ltr\">\n",
              "<text class=\"displacy-token\" fill=\"currentColor\" text-anchor=\"middle\" y=\"182.0\">\n",
              "    <tspan class=\"displacy-word\" fill=\"currentColor\" x=\"50\">Operating</tspan>\n",
              "    <tspan class=\"displacy-tag\" dy=\"2em\" fill=\"currentColor\" x=\"50\">VERB</tspan>\n",
              "</text>\n",
              "\n",
              "<text class=\"displacy-token\" fill=\"currentColor\" text-anchor=\"middle\" y=\"182.0\">\n",
              "    <tspan class=\"displacy-word\" fill=\"currentColor\" x=\"140\">systems</tspan>\n",
              "    <tspan class=\"displacy-tag\" dy=\"2em\" fill=\"currentColor\" x=\"140\">NOUN</tspan>\n",
              "</text>\n",
              "\n",
              "<text class=\"displacy-token\" fill=\"currentColor\" text-anchor=\"middle\" y=\"182.0\">\n",
              "    <tspan class=\"displacy-word\" fill=\"currentColor\" x=\"230\">provide</tspan>\n",
              "    <tspan class=\"displacy-tag\" dy=\"2em\" fill=\"currentColor\" x=\"230\">VERB</tspan>\n",
              "</text>\n",
              "\n",
              "<text class=\"displacy-token\" fill=\"currentColor\" text-anchor=\"middle\" y=\"182.0\">\n",
              "    <tspan class=\"displacy-word\" fill=\"currentColor\" x=\"320\">a</tspan>\n",
              "    <tspan class=\"displacy-tag\" dy=\"2em\" fill=\"currentColor\" x=\"320\">DET</tspan>\n",
              "</text>\n",
              "\n",
              "<text class=\"displacy-token\" fill=\"currentColor\" text-anchor=\"middle\" y=\"182.0\">\n",
              "    <tspan class=\"displacy-word\" fill=\"currentColor\" x=\"410\">graphical</tspan>\n",
              "    <tspan class=\"displacy-tag\" dy=\"2em\" fill=\"currentColor\" x=\"410\">ADJ</tspan>\n",
              "</text>\n",
              "\n",
              "<text class=\"displacy-token\" fill=\"currentColor\" text-anchor=\"middle\" y=\"182.0\">\n",
              "    <tspan class=\"displacy-word\" fill=\"currentColor\" x=\"500\">user</tspan>\n",
              "    <tspan class=\"displacy-tag\" dy=\"2em\" fill=\"currentColor\" x=\"500\">NOUN</tspan>\n",
              "</text>\n",
              "\n",
              "<text class=\"displacy-token\" fill=\"currentColor\" text-anchor=\"middle\" y=\"182.0\">\n",
              "    <tspan class=\"displacy-word\" fill=\"currentColor\" x=\"590\">interface</tspan>\n",
              "    <tspan class=\"displacy-tag\" dy=\"2em\" fill=\"currentColor\" x=\"590\">NOUN</tspan>\n",
              "</text>\n",
              "\n",
              "<text class=\"displacy-token\" fill=\"currentColor\" text-anchor=\"middle\" y=\"182.0\">\n",
              "    <tspan class=\"displacy-word\" fill=\"currentColor\" x=\"680\">for</tspan>\n",
              "    <tspan class=\"displacy-tag\" dy=\"2em\" fill=\"currentColor\" x=\"680\">ADP</tspan>\n",
              "</text>\n",
              "\n",
              "<text class=\"displacy-token\" fill=\"currentColor\" text-anchor=\"middle\" y=\"182.0\">\n",
              "    <tspan class=\"displacy-word\" fill=\"currentColor\" x=\"770\">ease</tspan>\n",
              "    <tspan class=\"displacy-tag\" dy=\"2em\" fill=\"currentColor\" x=\"770\">NOUN</tspan>\n",
              "</text>\n",
              "\n",
              "<text class=\"displacy-token\" fill=\"currentColor\" text-anchor=\"middle\" y=\"182.0\">\n",
              "    <tspan class=\"displacy-word\" fill=\"currentColor\" x=\"860\">of</tspan>\n",
              "    <tspan class=\"displacy-tag\" dy=\"2em\" fill=\"currentColor\" x=\"860\">ADP</tspan>\n",
              "</text>\n",
              "\n",
              "<text class=\"displacy-token\" fill=\"currentColor\" text-anchor=\"middle\" y=\"182.0\">\n",
              "    <tspan class=\"displacy-word\" fill=\"currentColor\" x=\"950\">use.</tspan>\n",
              "    <tspan class=\"displacy-tag\" dy=\"2em\" fill=\"currentColor\" x=\"950\">NOUN</tspan>\n",
              "</text>\n",
              "\n",
              "<g class=\"displacy-arrow\">\n",
              "    <path class=\"displacy-arc\" id=\"arrow-653ccfed37ea4af6a283c59d25551b38-0-0\" stroke-width=\"2px\" d=\"M70,137.0 C70,92.0 130.0,92.0 130.0,137.0\" fill=\"none\" stroke=\"currentColor\"/>\n",
              "    <text dy=\"1.25em\" style=\"font-size: 0.8em; letter-spacing: 1px\">\n",
              "        <textPath xlink:href=\"#arrow-653ccfed37ea4af6a283c59d25551b38-0-0\" class=\"displacy-label\" startOffset=\"50%\" side=\"left\" fill=\"currentColor\" text-anchor=\"middle\">amod</textPath>\n",
              "    </text>\n",
              "    <path class=\"displacy-arrowhead\" d=\"M70,139.0 L62,127.0 78,127.0\" fill=\"currentColor\"/>\n",
              "</g>\n",
              "\n",
              "<g class=\"displacy-arrow\">\n",
              "    <path class=\"displacy-arc\" id=\"arrow-653ccfed37ea4af6a283c59d25551b38-0-1\" stroke-width=\"2px\" d=\"M160,137.0 C160,92.0 220.0,92.0 220.0,137.0\" fill=\"none\" stroke=\"currentColor\"/>\n",
              "    <text dy=\"1.25em\" style=\"font-size: 0.8em; letter-spacing: 1px\">\n",
              "        <textPath xlink:href=\"#arrow-653ccfed37ea4af6a283c59d25551b38-0-1\" class=\"displacy-label\" startOffset=\"50%\" side=\"left\" fill=\"currentColor\" text-anchor=\"middle\">nsubj</textPath>\n",
              "    </text>\n",
              "    <path class=\"displacy-arrowhead\" d=\"M160,139.0 L152,127.0 168,127.0\" fill=\"currentColor\"/>\n",
              "</g>\n",
              "\n",
              "<g class=\"displacy-arrow\">\n",
              "    <path class=\"displacy-arc\" id=\"arrow-653ccfed37ea4af6a283c59d25551b38-0-2\" stroke-width=\"2px\" d=\"M340,137.0 C340,47.0 585.0,47.0 585.0,137.0\" fill=\"none\" stroke=\"currentColor\"/>\n",
              "    <text dy=\"1.25em\" style=\"font-size: 0.8em; letter-spacing: 1px\">\n",
              "        <textPath xlink:href=\"#arrow-653ccfed37ea4af6a283c59d25551b38-0-2\" class=\"displacy-label\" startOffset=\"50%\" side=\"left\" fill=\"currentColor\" text-anchor=\"middle\">det</textPath>\n",
              "    </text>\n",
              "    <path class=\"displacy-arrowhead\" d=\"M340,139.0 L332,127.0 348,127.0\" fill=\"currentColor\"/>\n",
              "</g>\n",
              "\n",
              "<g class=\"displacy-arrow\">\n",
              "    <path class=\"displacy-arc\" id=\"arrow-653ccfed37ea4af6a283c59d25551b38-0-3\" stroke-width=\"2px\" d=\"M430,137.0 C430,92.0 490.0,92.0 490.0,137.0\" fill=\"none\" stroke=\"currentColor\"/>\n",
              "    <text dy=\"1.25em\" style=\"font-size: 0.8em; letter-spacing: 1px\">\n",
              "        <textPath xlink:href=\"#arrow-653ccfed37ea4af6a283c59d25551b38-0-3\" class=\"displacy-label\" startOffset=\"50%\" side=\"left\" fill=\"currentColor\" text-anchor=\"middle\">amod</textPath>\n",
              "    </text>\n",
              "    <path class=\"displacy-arrowhead\" d=\"M430,139.0 L422,127.0 438,127.0\" fill=\"currentColor\"/>\n",
              "</g>\n",
              "\n",
              "<g class=\"displacy-arrow\">\n",
              "    <path class=\"displacy-arc\" id=\"arrow-653ccfed37ea4af6a283c59d25551b38-0-4\" stroke-width=\"2px\" d=\"M520,137.0 C520,92.0 580.0,92.0 580.0,137.0\" fill=\"none\" stroke=\"currentColor\"/>\n",
              "    <text dy=\"1.25em\" style=\"font-size: 0.8em; letter-spacing: 1px\">\n",
              "        <textPath xlink:href=\"#arrow-653ccfed37ea4af6a283c59d25551b38-0-4\" class=\"displacy-label\" startOffset=\"50%\" side=\"left\" fill=\"currentColor\" text-anchor=\"middle\">compound</textPath>\n",
              "    </text>\n",
              "    <path class=\"displacy-arrowhead\" d=\"M520,139.0 L512,127.0 528,127.0\" fill=\"currentColor\"/>\n",
              "</g>\n",
              "\n",
              "<g class=\"displacy-arrow\">\n",
              "    <path class=\"displacy-arc\" id=\"arrow-653ccfed37ea4af6a283c59d25551b38-0-5\" stroke-width=\"2px\" d=\"M250,137.0 C250,2.0 590.0,2.0 590.0,137.0\" fill=\"none\" stroke=\"currentColor\"/>\n",
              "    <text dy=\"1.25em\" style=\"font-size: 0.8em; letter-spacing: 1px\">\n",
              "        <textPath xlink:href=\"#arrow-653ccfed37ea4af6a283c59d25551b38-0-5\" class=\"displacy-label\" startOffset=\"50%\" side=\"left\" fill=\"currentColor\" text-anchor=\"middle\">dobj</textPath>\n",
              "    </text>\n",
              "    <path class=\"displacy-arrowhead\" d=\"M590.0,139.0 L598.0,127.0 582.0,127.0\" fill=\"currentColor\"/>\n",
              "</g>\n",
              "\n",
              "<g class=\"displacy-arrow\">\n",
              "    <path class=\"displacy-arc\" id=\"arrow-653ccfed37ea4af6a283c59d25551b38-0-6\" stroke-width=\"2px\" d=\"M610,137.0 C610,92.0 670.0,92.0 670.0,137.0\" fill=\"none\" stroke=\"currentColor\"/>\n",
              "    <text dy=\"1.25em\" style=\"font-size: 0.8em; letter-spacing: 1px\">\n",
              "        <textPath xlink:href=\"#arrow-653ccfed37ea4af6a283c59d25551b38-0-6\" class=\"displacy-label\" startOffset=\"50%\" side=\"left\" fill=\"currentColor\" text-anchor=\"middle\">prep</textPath>\n",
              "    </text>\n",
              "    <path class=\"displacy-arrowhead\" d=\"M670.0,139.0 L678.0,127.0 662.0,127.0\" fill=\"currentColor\"/>\n",
              "</g>\n",
              "\n",
              "<g class=\"displacy-arrow\">\n",
              "    <path class=\"displacy-arc\" id=\"arrow-653ccfed37ea4af6a283c59d25551b38-0-7\" stroke-width=\"2px\" d=\"M700,137.0 C700,92.0 760.0,92.0 760.0,137.0\" fill=\"none\" stroke=\"currentColor\"/>\n",
              "    <text dy=\"1.25em\" style=\"font-size: 0.8em; letter-spacing: 1px\">\n",
              "        <textPath xlink:href=\"#arrow-653ccfed37ea4af6a283c59d25551b38-0-7\" class=\"displacy-label\" startOffset=\"50%\" side=\"left\" fill=\"currentColor\" text-anchor=\"middle\">pobj</textPath>\n",
              "    </text>\n",
              "    <path class=\"displacy-arrowhead\" d=\"M760.0,139.0 L768.0,127.0 752.0,127.0\" fill=\"currentColor\"/>\n",
              "</g>\n",
              "\n",
              "<g class=\"displacy-arrow\">\n",
              "    <path class=\"displacy-arc\" id=\"arrow-653ccfed37ea4af6a283c59d25551b38-0-8\" stroke-width=\"2px\" d=\"M790,137.0 C790,92.0 850.0,92.0 850.0,137.0\" fill=\"none\" stroke=\"currentColor\"/>\n",
              "    <text dy=\"1.25em\" style=\"font-size: 0.8em; letter-spacing: 1px\">\n",
              "        <textPath xlink:href=\"#arrow-653ccfed37ea4af6a283c59d25551b38-0-8\" class=\"displacy-label\" startOffset=\"50%\" side=\"left\" fill=\"currentColor\" text-anchor=\"middle\">prep</textPath>\n",
              "    </text>\n",
              "    <path class=\"displacy-arrowhead\" d=\"M850.0,139.0 L858.0,127.0 842.0,127.0\" fill=\"currentColor\"/>\n",
              "</g>\n",
              "\n",
              "<g class=\"displacy-arrow\">\n",
              "    <path class=\"displacy-arc\" id=\"arrow-653ccfed37ea4af6a283c59d25551b38-0-9\" stroke-width=\"2px\" d=\"M880,137.0 C880,92.0 940.0,92.0 940.0,137.0\" fill=\"none\" stroke=\"currentColor\"/>\n",
              "    <text dy=\"1.25em\" style=\"font-size: 0.8em; letter-spacing: 1px\">\n",
              "        <textPath xlink:href=\"#arrow-653ccfed37ea4af6a283c59d25551b38-0-9\" class=\"displacy-label\" startOffset=\"50%\" side=\"left\" fill=\"currentColor\" text-anchor=\"middle\">pobj</textPath>\n",
              "    </text>\n",
              "    <path class=\"displacy-arrowhead\" d=\"M940.0,139.0 L948.0,127.0 932.0,127.0\" fill=\"currentColor\"/>\n",
              "</g>\n",
              "</svg></span>"
            ]
          },
          "metadata": {}
        }
      ]
    }
  ]
}